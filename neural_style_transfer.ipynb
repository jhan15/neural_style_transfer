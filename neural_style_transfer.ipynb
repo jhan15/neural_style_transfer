{
  "nbformat": 4,
  "nbformat_minor": 0,
  "metadata": {
    "accelerator": "GPU",
    "colab": {
      "name": "image_style_transfer.ipynb",
      "provenance": [],
      "collapsed_sections": []
    },
    "kernelspec": {
      "display_name": "Python 3",
      "name": "python3"
    },
    "language_info": {
      "name": "python"
    }
  },
  "cells": [
    {
      "cell_type": "markdown",
      "metadata": {
        "id": "9xvUDe5JwSu6"
      },
      "source": [
        "# **Neural Style Transfer**\n",
        "This is the colab implementation of an image style transfer technique called neural style transfer. The inputs are a content image and a style image. The output is a new image that keeps the content in the content image and copy the style of the style image."
      ]
    },
    {
      "cell_type": "markdown",
      "metadata": {
        "id": "-bCihIEvv_XV"
      },
      "source": [
        "# **Setup**"
      ]
    },
    {
      "cell_type": "code",
      "metadata": {
        "colab": {
          "base_uri": "https://localhost:8080/"
        },
        "id": "P5O-yQdA1K9Y",
        "outputId": "9dbc96ab-26c3-467a-baa6-797f6df2c42c"
      },
      "source": [
        "%tensorflow_version 2.x\n",
        "import tensorflow as tf\n",
        "device_name = tf.test.gpu_device_name()\n",
        "if device_name != '/device:GPU:0':\n",
        "    raise SystemError('GPU device not found')\n",
        "print('Found GPU at: {}'.format(device_name))"
      ],
      "execution_count": null,
      "outputs": [
        {
          "output_type": "stream",
          "text": [
            "Found GPU at: /device:GPU:0\n"
          ],
          "name": "stdout"
        }
      ]
    },
    {
      "cell_type": "code",
      "metadata": {
        "id": "HwEIGZTZjQas"
      },
      "source": [
        "from google.colab import drive\n",
        "drive.mount('/content/gdrive')"
      ],
      "execution_count": null,
      "outputs": []
    },
    {
      "cell_type": "code",
      "metadata": {
        "id": "FQZcFPQuAf9x"
      },
      "source": [
        "%cd /content\n",
        "# !rm -rf neural_style_transfer/"
      ],
      "execution_count": null,
      "outputs": []
    },
    {
      "cell_type": "code",
      "metadata": {
        "id": "LF_QzD2swsib"
      },
      "source": [
        "# copy images to /content\n",
        "%cp -av \"/content/gdrive/MyDrive/neural_style_transfer\" \"/content\""
      ],
      "execution_count": null,
      "outputs": []
    },
    {
      "cell_type": "code",
      "metadata": {
        "id": "PR9wCdJHwwZT"
      },
      "source": [
        "import glob        \n",
        "import IPython.display as display\n",
        "from PIL import Image\n",
        "import matplotlib.pyplot as plt\n",
        "import matplotlib as mpl\n",
        "mpl.rcParams['axes.grid'] = False\n",
        "import numpy as np\n",
        "import time\n",
        "import functools"
      ],
      "execution_count": null,
      "outputs": []
    },
    {
      "cell_type": "code",
      "metadata": {
        "id": "MiRq3XRI2qw_"
      },
      "source": [
        "from tensorflow.keras.applications.vgg19 import VGG19, preprocess_input\n",
        "from tensorflow.keras.models import Model"
      ],
      "execution_count": null,
      "outputs": []
    },
    {
      "cell_type": "markdown",
      "metadata": {
        "id": "S4SDrFdto-xr"
      },
      "source": [
        "# **Utils**"
      ]
    },
    {
      "cell_type": "code",
      "metadata": {
        "id": "_lIB05SCMI6J"
      },
      "source": [
        "def load_img(path_to_img):\n",
        "    \"\"\" load an image from path as tensor, height 400 \"\"\"\n",
        "    max_h = 400\n",
        "    img = tf.io.read_file(path_to_img)\n",
        "    img = tf.image.decode_image(img, channels=3)\n",
        "    img = tf.image.convert_image_dtype(img, tf.float32)\n",
        "\n",
        "    shape = tf.cast(tf.shape(img)[:-1], tf.float32)\n",
        "    h = shape[0]\n",
        "    scale = max_h / h\n",
        "\n",
        "    new_shape = tf.cast(shape * scale, tf.int32)\n",
        "\n",
        "    img = tf.image.resize(img, new_shape)\n",
        "    img = img[tf.newaxis, :]\n",
        "    \n",
        "    return img"
      ],
      "execution_count": null,
      "outputs": []
    },
    {
      "cell_type": "code",
      "metadata": {
        "id": "U5SW8wxyMRww"
      },
      "source": [
        "def plot_img(image, title=None):\n",
        "    \"\"\" plot a tensor image \"\"\"\n",
        "    if len(image.shape) > 3:\n",
        "        image = tf.squeeze(image, axis=0)\n",
        "\n",
        "    plt.imshow(image)\n",
        "    if title:\n",
        "        plt.title(title)"
      ],
      "execution_count": null,
      "outputs": []
    },
    {
      "cell_type": "code",
      "metadata": {
        "id": "U7HaXwo2NJ4Q"
      },
      "source": [
        "def plot_image_array(images, col=3):\n",
        "    \"\"\" plot multiple tensor images as an array \"\"\"\n",
        "    fig = plt.figure(figsize=(col*6, 4), constrained_layout=True)\n",
        "    gs = fig.add_gridspec(1, col)\n",
        "    for i, (key, val) in enumerate(images.items()):\n",
        "        fig.add_subplot(gs[0, i])\n",
        "        plot_img(val, key)\n",
        "        plt.xticks([]),plt.yticks([])\n",
        "    plt.show()"
      ],
      "execution_count": null,
      "outputs": []
    },
    {
      "cell_type": "code",
      "metadata": {
        "id": "R9hLikqsCKHw"
      },
      "source": [
        "def tensor_to_image(tensor):\n",
        "    \"\"\" convert tensor to image \"\"\"\n",
        "    tensor = tensor*255\n",
        "    tensor = np.array(tensor, dtype=np.uint8)\n",
        "    if np.ndim(tensor)>3:\n",
        "        assert tensor.shape[0] == 1\n",
        "    tensor = tensor[0]\n",
        "    \n",
        "    return Image.fromarray(tensor)"
      ],
      "execution_count": null,
      "outputs": []
    },
    {
      "cell_type": "code",
      "metadata": {
        "id": "bXto9NiXDiYn"
      },
      "source": [
        "def display_images(paths):\n",
        "    \"\"\" diplay multiple images \"\"\"\n",
        "    for i in paths:\n",
        "        img = load_img(i)\n",
        "        img = tensor_to_image(img)\n",
        "        display.display(img)"
      ],
      "execution_count": null,
      "outputs": []
    },
    {
      "cell_type": "code",
      "metadata": {
        "id": "BPsGD6MJTGNv"
      },
      "source": [
        "def clip_0_1(image):\n",
        "    \"\"\" keep pixel values between 0 and 1 \"\"\"\n",
        "    return tf.clip_by_value(image, clip_value_min=0.0, clip_value_max=1.0)"
      ],
      "execution_count": null,
      "outputs": []
    },
    {
      "cell_type": "code",
      "metadata": {
        "id": "TdQSChdVhh8z"
      },
      "source": [
        "def plot_data(data, names, y_label='loss', x_label='epoch'):\n",
        "    \"\"\" plot a data list \"\"\"\n",
        "    n = len(data)\n",
        "    plt.figure(figsize=(8, 6))\n",
        "    plt.rc('font', size=14)\n",
        "\n",
        "    for i in range(n):\n",
        "        x = (np.arange(len(data[0])) + 1)\n",
        "        y = data[i]\n",
        "        plt.plot(x, y, label=names[i], lw=2)\n",
        "    \n",
        "    plt.xlabel(x_label)\n",
        "    plt.ylabel(y_label)\n",
        "    plt.legend()\n",
        "    plt.show()"
      ],
      "execution_count": null,
      "outputs": []
    },
    {
      "cell_type": "markdown",
      "metadata": {
        "id": "8RYrakofom7-"
      },
      "source": [
        "# **Show images**"
      ]
    },
    {
      "cell_type": "code",
      "metadata": {
        "id": "kTX0rCM9_AJd"
      },
      "source": [
        "contents = [img for img in glob.glob('neural_style_transfer/contents/*')]\n",
        "styles = [img for img in glob.glob('neural_style_transfer/styles/*')]\n",
        "contents.sort()\n",
        "styles.sort()"
      ],
      "execution_count": null,
      "outputs": []
    },
    {
      "cell_type": "code",
      "metadata": {
        "id": "BN5WuZrH74bR"
      },
      "source": [
        "display_images(contents)"
      ],
      "execution_count": null,
      "outputs": []
    },
    {
      "cell_type": "code",
      "metadata": {
        "id": "iKp0Sj4sDFsR"
      },
      "source": [
        "display_images(styles)"
      ],
      "execution_count": null,
      "outputs": []
    },
    {
      "cell_type": "markdown",
      "metadata": {
        "id": "DoXAS50Kuo4k"
      },
      "source": [
        "# **VGG extractor**"
      ]
    },
    {
      "cell_type": "code",
      "metadata": {
        "id": "YlSkphW4xuRw"
      },
      "source": [
        "vgg = VGG19(include_top=False, weights='imagenet')\n",
        "vgg.trainable = False"
      ],
      "execution_count": null,
      "outputs": []
    },
    {
      "cell_type": "code",
      "metadata": {
        "id": "OPLTRL3KMgEc"
      },
      "source": [
        "def vgg_layers(layer_names):\n",
        "    outputs = [vgg.get_layer(name).output for name in layer_names]\n",
        "    model = Model([vgg.input], outputs)\n",
        "    return model"
      ],
      "execution_count": null,
      "outputs": []
    },
    {
      "cell_type": "code",
      "metadata": {
        "id": "6aNE52YtRy5F"
      },
      "source": [
        "def gram_matrix(input_tensor):\n",
        "    result = tf.linalg.einsum('bijc,bijd->bcd', input_tensor, input_tensor)\n",
        "    input_shape = tf.shape(input_tensor)\n",
        "    num_locations = tf.cast(input_shape[1]*input_shape[2], tf.float32)\n",
        "    return result/(num_locations)"
      ],
      "execution_count": null,
      "outputs": []
    },
    {
      "cell_type": "code",
      "metadata": {
        "id": "FjokER5ARy7q"
      },
      "source": [
        "class StyleContentModel(Model):\n",
        "    def __init__(self, style_layers, content_layers):\n",
        "        super(StyleContentModel, self).__init__()\n",
        "        self.vgg = vgg_layers(style_layers + content_layers)\n",
        "        self.style_layers = style_layers\n",
        "        self.content_layers = content_layers\n",
        "        self.num_style_layers = len(style_layers)\n",
        "        self.vgg.trainable = False\n",
        "\n",
        "    def call(self, inputs):\n",
        "        inputs = inputs*255.0\n",
        "        preprocessed_input = preprocess_input(inputs)\n",
        "        \n",
        "        outputs = self.vgg(preprocessed_input)\n",
        "        style_outputs, content_outputs = (outputs[:self.num_style_layers], \n",
        "                                        outputs[self.num_style_layers:])\n",
        "\n",
        "        style_outputs = [gram_matrix(style_output)\n",
        "                        for style_output in style_outputs]\n",
        "\n",
        "        content_dict = {content_name:value \n",
        "                        for content_name, value \n",
        "                        in zip(self.content_layers, content_outputs)}\n",
        "        \n",
        "        style_dict = {style_name:value\n",
        "                    for style_name, value\n",
        "                    in zip(self.style_layers, style_outputs)}\n",
        "\n",
        "        return {'content':content_dict, 'style':style_dict}"
      ],
      "execution_count": null,
      "outputs": []
    },
    {
      "cell_type": "code",
      "metadata": {
        "id": "CR7_N3_XsH6O"
      },
      "source": [
        "def vgg_convs():\n",
        "    idx = []\n",
        "    for i in range(len(vgg.layers)):\n",
        "        layer = vgg.layers[i]\n",
        "        if 'conv' not in layer.name:\n",
        "            continue\n",
        "        idx.append(i)\n",
        "        print(i, layer.name, layer.output.shape)\n",
        "    return idx"
      ],
      "execution_count": null,
      "outputs": []
    },
    {
      "cell_type": "code",
      "metadata": {
        "id": "CXF4Ht3wtTrL"
      },
      "source": [
        "def display_feature_maps(ixs, img_path, n_maps=10):\n",
        "    \"\"\" only display 10 feature maps at each layer \"\"\"\n",
        "    n = len(ixs)\n",
        "    outputs = [vgg.layers[i].output for i in ixs]\n",
        "    names = [vgg.layers[i].name for i in ixs]\n",
        "    model = Model(inputs=vgg.inputs, outputs=outputs)\n",
        "    # vgg.summary()\n",
        "    img = load_img(img_path)\n",
        "    img = preprocess_input(img*255)\n",
        "    img = tf.image.resize(img, (224, 224))\n",
        "    feature_maps = model.predict(img)\n",
        "    if n == 1:\n",
        "        feature_maps = [feature_maps]\n",
        "    for i, f_map in enumerate(feature_maps):\n",
        "        fig = plt.figure(figsize=(20, 2))\n",
        "        for j in range(n_maps):\n",
        "            ax = plt.subplot(1, n_maps, j+1)\n",
        "            ax.set_xticks([])\n",
        "            ax.set_yticks([])\n",
        "            plt.imshow(f_map[0, :, :, j], cmap='gray')\n",
        "        plt.suptitle(names[i])\n",
        "        plt.show()"
      ],
      "execution_count": null,
      "outputs": []
    },
    {
      "cell_type": "markdown",
      "metadata": {
        "id": "0gXDMz2Gvw3N"
      },
      "source": [
        "# **Transfer functions**"
      ]
    },
    {
      "cell_type": "code",
      "metadata": {
        "id": "ak7feA11DzYK"
      },
      "source": [
        "class ImageTransfer:\n",
        "    def __init__(self, content_path, style_path, content_layers, style_layers,\n",
        "                 epochs=10, steps_per_epoch=100, content_weight=1,\n",
        "                 style_weight=1, total_variation_weight=1,\n",
        "                 learning_rate=0.02, beta_1=0.99, beta_2=0.999, epsilon=1e-1):\n",
        "      \n",
        "        self.content_image = load_img(content_path)\n",
        "        self.style_image = load_img(style_path)\n",
        "        self.content_layers = content_layers\n",
        "        self.style_layers = style_layers\n",
        "        self.num_content_layers = len(content_layers)\n",
        "        self.num_style_layers = len(style_layers)\n",
        "        self.extractor = StyleContentModel(style_layers, content_layers)\n",
        "        self.style_targets = self.extractor(self.style_image)['style']\n",
        "        self.content_targets = self.extractor(self.content_image)['content']\n",
        "\n",
        "        self.epochs = epochs\n",
        "        self.steps_per_epoch = steps_per_epoch\n",
        "        self.content_weight = content_weight\n",
        "        self.style_weight = style_weight\n",
        "        self.total_variation_weight = total_variation_weight\n",
        "        self.learning_rate = learning_rate\n",
        "        self.beta_1 = beta_1\n",
        "        self.beta_2 = beta_2\n",
        "        self.epsilon = epsilon\n",
        "\n",
        "        self.opt = tf.optimizers.Adam(learning_rate=learning_rate,\n",
        "                                      beta_1=beta_1,\n",
        "                                      beta_2=beta_2,\n",
        "                                      epsilon=epsilon)\n",
        "\n",
        "    @tf.function()\n",
        "    def train_step(self, image):\n",
        "        with tf.GradientTape() as tape:\n",
        "            outputs = self.extractor(image)\n",
        "            loss = self.style_content_loss(outputs)\n",
        "            v_loss = self.total_variation_weight * tf.image.total_variation(image)\n",
        "            loss[0] += v_loss\n",
        "            loss.append(v_loss)\n",
        "\n",
        "        grad = tape.gradient(loss, image)\n",
        "        self.opt.apply_gradients([(grad, image)])\n",
        "        image.assign(clip_0_1(image))\n",
        "\n",
        "        return loss\n",
        "    \n",
        "    def style_content_loss(self, outputs):\n",
        "        style_outputs = outputs['style']\n",
        "        content_outputs = outputs['content']\n",
        "\n",
        "        style_loss = tf.add_n([tf.reduce_mean((style_outputs[name]-self.style_targets[name])**2) \n",
        "                              for name in style_outputs.keys()])\n",
        "        style_loss *= self.style_weight / self.num_style_layers\n",
        "        content_loss = tf.add_n([tf.reduce_mean((content_outputs[name]-self.content_targets[name])**2) \n",
        "                                for name in content_outputs.keys()])\n",
        "        content_loss *= self.content_weight / self.num_content_layers\n",
        "        loss = style_loss + content_loss\n",
        "        \n",
        "        return [loss, content_loss, style_loss]\n",
        "    \n",
        "    def save_to_dict(self, image):\n",
        "        hyper_dict = {'content_layers': self.content_layers,\n",
        "                      'style_layers': self.style_layers,\n",
        "                      'content_weight': self.content_weight,\n",
        "                      'style_weight': self.style_weight,\n",
        "                      'variation_weight': self.total_variation_weight,\n",
        "                      'learning_rate': self.learning_rate,\n",
        "                      'beta_1': self.beta_1,\n",
        "                      'beta_2': self.beta_2,\n",
        "                      'epsilon': self.epsilon,\n",
        "                      'epochs': self.epochs}\n",
        "        \n",
        "        image_dict = {'Content Image': self.content_image,\n",
        "                      'Style Image': self.style_image,\n",
        "                      'Generated Image': image}\n",
        "        \n",
        "        return hyper_dict, image_dict\n",
        "    \n",
        "    def transfer(self):\n",
        "        image = tf.Variable(self.content_image)\n",
        "        losses = []\n",
        "        c_losses = []\n",
        "        s_losses = []\n",
        "        v_losses = []\n",
        "        inter_images = []\n",
        "        best_img, best_loss = None, float('inf')\n",
        "        start = time.time()\n",
        "        step = 0\n",
        "\n",
        "        for n in range(self.epochs):\n",
        "            for m in range(self.steps_per_epoch):\n",
        "                step += 1\n",
        "                loss = self.train_step(image)\n",
        "                if loss[0] < best_loss:\n",
        "                    best_loss = loss[0]\n",
        "                    best_img = image\n",
        "                print(\".\", end='')\n",
        "            display.clear_output(wait=True)\n",
        "            display.display(tensor_to_image(image))\n",
        "            print(\"Train step: {}\".format(step))\n",
        "            losses.append(loss[0])\n",
        "            c_losses.append(loss[1])\n",
        "            s_losses.append(loss[2])\n",
        "            v_losses.append(loss[3])\n",
        "            inter_images.append(image)\n",
        "\n",
        "        end = time.time()\n",
        "        print(\"Total time: {:.1f}\".format(end-start))\n",
        "        \n",
        "        hyper_dict, image_dict = self.save_to_dict(best_img)\n",
        "\n",
        "        loss_list = [losses, c_losses, s_losses, v_losses]\n",
        "\n",
        "        return image_dict, loss_list, hyper_dict, inter_images"
      ],
      "execution_count": null,
      "outputs": []
    },
    {
      "cell_type": "code",
      "metadata": {
        "id": "2HBG1sv7KI_m"
      },
      "source": [
        "def run_training():\n",
        "    # transfer\n",
        "    transfer = ImageTransfer(content_path=content_path,\n",
        "                             style_path=style_path,\n",
        "                             content_layers=content_layers,\n",
        "                             style_layers=style_layers,\n",
        "                             epochs=epochs,\n",
        "                             steps_per_epoch=steps_per_epoch,\n",
        "                             content_weight=content_weight,\n",
        "                             style_weight=style_weight,\n",
        "                             total_variation_weight=total_variation_weight,\n",
        "                             learning_rate=learning_rate,\n",
        "                             beta_1=beta_1)\n",
        "\n",
        "    return transfer.transfer()"
      ],
      "execution_count": null,
      "outputs": []
    },
    {
      "cell_type": "markdown",
      "metadata": {
        "id": "fNIfVMIS885c"
      },
      "source": [
        "# **Visualize feature maps**"
      ]
    },
    {
      "cell_type": "code",
      "metadata": {
        "id": "uhlV8k-M_kq8"
      },
      "source": [
        "display_images([contents[4], styles[0]])"
      ],
      "execution_count": null,
      "outputs": []
    },
    {
      "cell_type": "code",
      "metadata": {
        "id": "LR57d74wysru"
      },
      "source": [
        "idx_all = vgg_convs()"
      ],
      "execution_count": null,
      "outputs": []
    },
    {
      "cell_type": "code",
      "metadata": {
        "id": "9q9AJYfM6c8o"
      },
      "source": [
        "display_feature_maps(idx_all, contents[4])"
      ],
      "execution_count": null,
      "outputs": []
    },
    {
      "cell_type": "code",
      "metadata": {
        "id": "DxN49fRpeNV6"
      },
      "source": [
        "display_feature_maps(idx_all, styles[16])"
      ],
      "execution_count": null,
      "outputs": []
    },
    {
      "cell_type": "markdown",
      "metadata": {
        "id": "uf7SFfOnAtsT"
      },
      "source": [
        "# **Training**"
      ]
    },
    {
      "cell_type": "code",
      "metadata": {
        "id": "hUWUxwrcsN6s"
      },
      "source": [
        "# hyper-parameters\n",
        "content_layers = ['block3_conv4']\n",
        "style_layers = ['block1_conv2',\n",
        "                'block2_conv2',\n",
        "                'block4_conv4']\n",
        "epochs = 5\n",
        "steps_per_epoch = 200\n",
        "\n",
        "content_weight = 0.6\n",
        "style_weight = 0.4\n",
        "total_variation_weight = 3\n",
        "\n",
        "learning_rate = 0.02\n",
        "beta_1 = 0.9"
      ],
      "execution_count": null,
      "outputs": []
    },
    {
      "cell_type": "code",
      "metadata": {
        "id": "vnncW6_J51JZ"
      },
      "source": [
        "content_path = contents[4]\n",
        "style_path = styles[16]\n",
        "image_dict, losses, _, inter_images = run_training()\n",
        "plot_image_array(image_dict)"
      ],
      "execution_count": null,
      "outputs": []
    },
    {
      "cell_type": "code",
      "metadata": {
        "id": "2AqLypIt7DvO"
      },
      "source": [
        "for i, image in enumerate(inter_images):\n",
        "    image = tensor_to_image(image)\n",
        "    path = 'saved/image_' + str(i+1) + '.jpg'\n",
        "    image.save(path)"
      ],
      "execution_count": null,
      "outputs": []
    }
  ]
}