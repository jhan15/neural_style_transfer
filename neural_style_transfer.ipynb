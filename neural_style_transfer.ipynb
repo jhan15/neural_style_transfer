{
  "nbformat": 4,
  "nbformat_minor": 0,
  "metadata": {
    "accelerator": "GPU",
    "colab": {
      "name": "image_style_transfer.ipynb",
      "provenance": [],
      "collapsed_sections": []
    },
    "kernelspec": {
      "display_name": "Python 3",
      "name": "python3"
    },
    "language_info": {
      "name": "python"
    }
  },
  "cells": [
    {
      "cell_type": "markdown",
      "metadata": {
        "id": "9xvUDe5JwSu6"
      },
      "source": [
        "# **DD2424 Project - Image Style Transfer**\n",
        "This is the colab notebook for project in DD2424 @ KTH."
      ]
    },
    {
      "cell_type": "markdown",
      "metadata": {
        "id": "-bCihIEvv_XV"
      },
      "source": [
        "# **Setup**"
      ]
    },
    {
      "cell_type": "code",
      "metadata": {
        "id": "P5O-yQdA1K9Y"
      },
      "source": [
        "%tensorflow_version 2.x\n",
        "import tensorflow as tf\n",
        "device_name = tf.test.gpu_device_name()\n",
        "if device_name != '/device:GPU:0':\n",
        "    raise SystemError('GPU device not found')\n",
        "print('Found GPU at: {}'.format(device_name))"
      ],
      "execution_count": null,
      "outputs": []
    },
    {
      "cell_type": "code",
      "metadata": {
        "id": "HwEIGZTZjQas"
      },
      "source": [
        "from google.colab import drive\n",
        "drive.mount('/content/gdrive')"
      ],
      "execution_count": null,
      "outputs": []
    },
    {
      "cell_type": "code",
      "metadata": {
        "id": "FQZcFPQuAf9x"
      },
      "source": [
        "%cd /content\n",
        "!rm -rf image_style_transfer/"
      ],
      "execution_count": null,
      "outputs": []
    },
    {
      "cell_type": "code",
      "metadata": {
        "id": "LF_QzD2swsib"
      },
      "source": [
        "%cp -av \"/content/gdrive/MyDrive/image_style_transfer\" \"/content\""
      ],
      "execution_count": null,
      "outputs": []
    },
    {
      "cell_type": "code",
      "metadata": {
        "id": "PR9wCdJHwwZT"
      },
      "source": [
        "import glob\n",
        "from PIL import Image\n",
        "import cv2                \n",
        "from google.colab.patches import cv2_imshow\n",
        "\n",
        "import IPython.display as display\n",
        "\n",
        "import matplotlib.pyplot as plt\n",
        "import matplotlib as mpl\n",
        "mpl.rcParams['axes.grid'] = False\n",
        "\n",
        "import numpy as np\n",
        "import time\n",
        "import functools"
      ],
      "execution_count": null,
      "outputs": []
    },
    {
      "cell_type": "markdown",
      "metadata": {
        "id": "8RYrakofom7-"
      },
      "source": [
        "# **Preprocessing**"
      ]
    },
    {
      "cell_type": "code",
      "metadata": {
        "id": "S62PdQyA_AMd"
      },
      "source": [
        "def resize_images(images):\n",
        "    for image in images:\n",
        "        basewidth = 480\n",
        "        img = Image.open(image)\n",
        "        wpercent = (basewidth/float(img.size[0]))\n",
        "        hsize = int((float(img.size[1])*float(wpercent)))\n",
        "        img = img.resize((basewidth,hsize), Image.NEAREST)\n",
        "        img = img.convert(\"RGB\")\n",
        "        img.save(image)"
      ],
      "execution_count": null,
      "outputs": []
    },
    {
      "cell_type": "code",
      "metadata": {
        "id": "YzicZCQz_AO9"
      },
      "source": [
        "def show_images(images):\n",
        "    for image in images:\n",
        "        img = cv2.imread(image)\n",
        "        cv2_imshow(img)\n",
        "        print(\"\\n\")"
      ],
      "execution_count": null,
      "outputs": []
    },
    {
      "cell_type": "code",
      "metadata": {
        "id": "kTX0rCM9_AJd"
      },
      "source": [
        "contents = [img for img in glob.glob('image_style_transfer/images/*')]\n",
        "styles = [img for img in glob.glob('image_style_transfer/styles/*')]\n",
        "contents.sort()\n",
        "styles.sort()"
      ],
      "execution_count": null,
      "outputs": []
    },
    {
      "cell_type": "code",
      "metadata": {
        "id": "tPOvKHJFBy0J"
      },
      "source": [
        "resize_images(contents)\n",
        "resize_images(styles)"
      ],
      "execution_count": null,
      "outputs": []
    },
    {
      "cell_type": "code",
      "metadata": {
        "id": "VtvzPSIZcKpB"
      },
      "source": [
        "show_images(contents)"
      ],
      "execution_count": null,
      "outputs": []
    },
    {
      "cell_type": "code",
      "metadata": {
        "id": "N8o7orZ5cQoE"
      },
      "source": [
        "show_images(styles)"
      ],
      "execution_count": null,
      "outputs": []
    },
    {
      "cell_type": "markdown",
      "metadata": {
        "id": "S4SDrFdto-xr"
      },
      "source": [
        "# **Utils**"
      ]
    },
    {
      "cell_type": "code",
      "metadata": {
        "id": "R9hLikqsCKHw"
      },
      "source": [
        "def tensor_to_image(tensor):\n",
        "    tensor = tensor*255\n",
        "    tensor = np.array(tensor, dtype=np.uint8)\n",
        "    if np.ndim(tensor)>3:\n",
        "        assert tensor.shape[0] == 1\n",
        "    tensor = tensor[0]\n",
        "    \n",
        "    return Image.fromarray(tensor)"
      ],
      "execution_count": null,
      "outputs": []
    },
    {
      "cell_type": "code",
      "metadata": {
        "id": "_lIB05SCMI6J"
      },
      "source": [
        "def load_img(path_to_img):\n",
        "    max_dim = 512\n",
        "    img = tf.io.read_file(path_to_img)\n",
        "    img = tf.image.decode_image(img, channels=3)\n",
        "    img = tf.image.convert_image_dtype(img, tf.float32)\n",
        "\n",
        "    shape = tf.cast(tf.shape(img)[:-1], tf.float32)\n",
        "    long_dim = max(shape)\n",
        "    scale = max_dim / long_dim\n",
        "\n",
        "    new_shape = tf.cast(shape * scale, tf.int32)\n",
        "\n",
        "    img = tf.image.resize(img, new_shape)\n",
        "    img = img[tf.newaxis, :]\n",
        "    \n",
        "    return img"
      ],
      "execution_count": null,
      "outputs": []
    },
    {
      "cell_type": "code",
      "metadata": {
        "id": "U5SW8wxyMRww"
      },
      "source": [
        "def imshow(image, title=None):\n",
        "    if len(image.shape) > 3:\n",
        "        image = tf.squeeze(image, axis=0)\n",
        "\n",
        "    plt.imshow(image)\n",
        "    if title:\n",
        "        plt.title(title)"
      ],
      "execution_count": null,
      "outputs": []
    },
    {
      "cell_type": "code",
      "metadata": {
        "id": "BPsGD6MJTGNv"
      },
      "source": [
        "def clip_0_1(image):\n",
        "    return tf.clip_by_value(image, clip_value_min=0.0, clip_value_max=1.0)"
      ],
      "execution_count": null,
      "outputs": []
    },
    {
      "cell_type": "code",
      "metadata": {
        "id": "pGGphQlxCwEV"
      },
      "source": [
        "def plot_metrics(data, metrics, y_label, x_label='epoch', factor=1):\n",
        "    legends = ['total_loss',\n",
        "               'content_loss',\n",
        "               'style_loss',\n",
        "               'variation_loss']\n",
        "    n = len(legends)\n",
        "    plt.figure(figsize=(8, 6))\n",
        "    plt.rc('font', size=14)\n",
        "\n",
        "    for i in range(n):\n",
        "        if legends[i] in metrics:\n",
        "            x = (np.arange(len(data)) + 1) * factor\n",
        "            y = [loss[i] for loss in data]\n",
        "            plt.plot(x, y, label=legends[i], lw=2)\n",
        "    \n",
        "    plt.xlabel(x_label)\n",
        "    plt.ylabel(y_label)\n",
        "    plt.legend()\n",
        "    plt.show()"
      ],
      "execution_count": null,
      "outputs": []
    },
    {
      "cell_type": "code",
      "metadata": {
        "id": "DhBx8vZWcEts"
      },
      "source": [
        "def plot_images_list(images, col=5):\n",
        "    n = len(images)\n",
        "    row = np.ceil(n/col)\n",
        "    plt.figure(figsize=(col*6,row*6))\n",
        "    for i, img in enumerate(images):\n",
        "        plt.subplot(row, col, i+1)\n",
        "        plt.xticks([]),plt.yticks([])\n",
        "        imshow(img, i+1)\n",
        "    plt.show()"
      ],
      "execution_count": null,
      "outputs": []
    },
    {
      "cell_type": "code",
      "metadata": {
        "id": "B8fmp1kYpzHM"
      },
      "source": [
        "def plot_images(images, col=5):\n",
        "    n = len(images)\n",
        "    row = np.ceil(n/col)\n",
        "    plt.figure(figsize=(col*8,row*8))\n",
        "    for i, (key, val) in enumerate(images.items()):\n",
        "        plt.subplot(row, col, i+1)\n",
        "        plt.xticks([]),plt.yticks([])\n",
        "        imshow(val, key)\n",
        "    plt.show()"
      ],
      "execution_count": null,
      "outputs": []
    },
    {
      "cell_type": "code",
      "metadata": {
        "id": "2OOslp2A2_oU"
      },
      "source": [
        "def print_vgg_layers():\n",
        "    vgg = tf.keras.applications.VGG19(include_top=False, weights='imagenet')\n",
        "    print()\n",
        "    for layer in vgg.layers:\n",
        "        print(layer.name)"
      ],
      "execution_count": null,
      "outputs": []
    },
    {
      "cell_type": "markdown",
      "metadata": {
        "id": "DoXAS50Kuo4k"
      },
      "source": [
        "# **VGG extractor**"
      ]
    },
    {
      "cell_type": "code",
      "metadata": {
        "id": "OPLTRL3KMgEc"
      },
      "source": [
        "def vgg_layers(layer_names):\n",
        "    vgg = tf.keras.applications.VGG19(include_top=False, weights='imagenet')\n",
        "    vgg.trainable = False\n",
        "\n",
        "    outputs = [vgg.get_layer(name).output for name in layer_names]\n",
        "\n",
        "    model = tf.keras.Model([vgg.input], outputs)\n",
        "    \n",
        "    return model"
      ],
      "execution_count": null,
      "outputs": []
    },
    {
      "cell_type": "code",
      "metadata": {
        "id": "6aNE52YtRy5F"
      },
      "source": [
        "def gram_matrix(input_tensor):\n",
        "    result = tf.linalg.einsum('bijc,bijd->bcd', input_tensor, input_tensor)\n",
        "    input_shape = tf.shape(input_tensor)\n",
        "    num_locations = tf.cast(input_shape[1]*input_shape[2], tf.float32)\n",
        "    \n",
        "    return result/(num_locations)"
      ],
      "execution_count": null,
      "outputs": []
    },
    {
      "cell_type": "code",
      "metadata": {
        "id": "FjokER5ARy7q"
      },
      "source": [
        "class StyleContentModel(tf.keras.models.Model):\n",
        "    def __init__(self, style_layers, content_layers):\n",
        "        super(StyleContentModel, self).__init__()\n",
        "        self.vgg = vgg_layers(style_layers + content_layers)\n",
        "        self.style_layers = style_layers\n",
        "        self.content_layers = content_layers\n",
        "        self.num_style_layers = len(style_layers)\n",
        "        self.vgg.trainable = False\n",
        "\n",
        "    def call(self, inputs):\n",
        "        inputs = inputs*255.0\n",
        "        preprocessed_input = tf.keras.applications.vgg19.preprocess_input(inputs)\n",
        "        \n",
        "        outputs = self.vgg(preprocessed_input)\n",
        "        style_outputs, content_outputs = (outputs[:self.num_style_layers], \n",
        "                                        outputs[self.num_style_layers:])\n",
        "\n",
        "        style_outputs = [gram_matrix(style_output)\n",
        "                        for style_output in style_outputs]\n",
        "\n",
        "        content_dict = {content_name:value \n",
        "                        for content_name, value \n",
        "                        in zip(self.content_layers, content_outputs)}\n",
        "        \n",
        "        style_dict = {style_name:value\n",
        "                    for style_name, value\n",
        "                    in zip(self.style_layers, style_outputs)}\n",
        "\n",
        "        return {'content':content_dict, 'style':style_dict}"
      ],
      "execution_count": null,
      "outputs": []
    },
    {
      "cell_type": "markdown",
      "metadata": {
        "id": "0gXDMz2Gvw3N"
      },
      "source": [
        "# **Image transfer**"
      ]
    },
    {
      "cell_type": "code",
      "metadata": {
        "id": "ak7feA11DzYK"
      },
      "source": [
        "class ImageTransfer:\n",
        "    def __init__(self, content_path, style_path, content_layers, style_layers,\n",
        "                 epochs=20, steps_per_epoch=100, content_weight=0.1,\n",
        "                 style_weight=0.9, total_variation_weight=30,\n",
        "                 learning_rate=0.02, beta_1=0.99, beta_2=0.999, epsilon=1e-7):\n",
        "      \n",
        "        self.content_image = load_img(content_path)\n",
        "        self.style_image = load_img(style_path)\n",
        "        self.content_layers = content_layers\n",
        "        self.style_layers = style_layers\n",
        "        self.num_content_layers = len(content_layers)\n",
        "        self.num_style_layers = len(style_layers)\n",
        "        self.extractor = StyleContentModel(style_layers, content_layers)\n",
        "        self.style_targets = self.extractor(self.style_image)['style']\n",
        "        self.content_targets = self.extractor(self.content_image)['content']\n",
        "\n",
        "        self.epochs = epochs\n",
        "        self.steps_per_epoch = steps_per_epoch\n",
        "        self.content_weight = content_weight\n",
        "        self.style_weight = style_weight\n",
        "        self.total_variation_weight = total_variation_weight\n",
        "        self.learning_rate = learning_rate\n",
        "        self.beta_1 = beta_1\n",
        "        self.beta_2 = beta_2\n",
        "        self.epsilon = epsilon\n",
        "\n",
        "        self.opt = tf.optimizers.Adam(learning_rate=learning_rate,\n",
        "                                      beta_1=beta_1,\n",
        "                                      beta_2=beta_2,\n",
        "                                      epsilon=epsilon)\n",
        "\n",
        "    @tf.function()\n",
        "    def train_step(self, image):\n",
        "        with tf.GradientTape() as tape:\n",
        "            outputs = self.extractor(image)\n",
        "            loss = self.style_content_loss(outputs)\n",
        "            v_loss = self.total_variation_weight * tf.image.total_variation(image)\n",
        "            loss += v_loss\n",
        "\n",
        "        grad = tape.gradient(loss, image)\n",
        "        self.opt.apply_gradients([(grad, image)])\n",
        "        image.assign(clip_0_1(image))\n",
        "\n",
        "        return loss\n",
        "    \n",
        "    def style_content_loss(self, outputs):\n",
        "        style_outputs = outputs['style']\n",
        "        content_outputs = outputs['content']\n",
        "\n",
        "        style_loss = tf.add_n([tf.reduce_mean((style_outputs[name]-self.style_targets[name])**2) \n",
        "                              for name in style_outputs.keys()])\n",
        "        style_loss *= self.style_weight / self.num_style_layers\n",
        "        content_loss = tf.add_n([tf.reduce_mean((content_outputs[name]-self.content_targets[name])**2) \n",
        "                                for name in content_outputs.keys()])\n",
        "        content_loss *= self.content_weight / self.num_content_layers\n",
        "        loss = style_loss + content_loss\n",
        "        \n",
        "        return loss\n",
        "    \n",
        "    def save_to_dict(self, image):\n",
        "        hyper_dict = {'content_layers': self.content_layers,\n",
        "                      'style_layers': self.style_layers,\n",
        "                      'content_weight': self.content_weight,\n",
        "                      'style_weight': self.style_weight,\n",
        "                      'variation_weight': self.total_variation_weight,\n",
        "                      'learning_rate': self.learning_rate,\n",
        "                      'beta_1': self.beta_1,\n",
        "                      'beta_2': self.beta_2,\n",
        "                      'epsilon': self.epsilon,\n",
        "                      'epochs': self.epochs}\n",
        "        \n",
        "        image_dict = {'Content Image': self.content_image,\n",
        "                      'Style Image': self.style_image,\n",
        "                      'Generated Image': image}\n",
        "        \n",
        "        return hyper_dict, image_dict\n",
        "    \n",
        "    def transfer(self):\n",
        "        image = tf.Variable(self.content_image)\n",
        "        losses = []\n",
        "        best_img, best_loss = None, float('inf')\n",
        "        start = time.time()\n",
        "        step = 0\n",
        "\n",
        "        for n in range(self.epochs):\n",
        "            for m in range(self.steps_per_epoch):\n",
        "                step += 1\n",
        "                loss = self.train_step(image)\n",
        "                if loss < best_loss:\n",
        "                    best_loss = loss\n",
        "                    best_img = image\n",
        "                print(\".\", end='')\n",
        "            display.clear_output(wait=True)\n",
        "            display.display(tensor_to_image(image))\n",
        "            print(\"Train step: {}\".format(step))\n",
        "            losses.append(loss)\n",
        "\n",
        "        end = time.time()\n",
        "        print(\"Total time: {:.1f}\".format(end-start))\n",
        "        \n",
        "        hyper_dict, image_dict = self.save_to_dict(best_img)\n",
        "\n",
        "        return image_dict, hyper_dict, losses"
      ],
      "execution_count": null,
      "outputs": []
    },
    {
      "cell_type": "code",
      "metadata": {
        "id": "2HBG1sv7KI_m"
      },
      "source": [
        "def run_training():\n",
        "    # transfer\n",
        "    transfer = ImageTransfer(content_path=content_path,\n",
        "                             style_path=style_path,\n",
        "                             content_layers=content_layers,\n",
        "                             style_layers=style_layers,\n",
        "                             epochs=epochs,\n",
        "                             content_weight=content_weight,\n",
        "                             style_weight=style_weight,\n",
        "                             total_variation_weight=total_variation_weight,\n",
        "                             learning_rate=learning_rate,\n",
        "                             beta_1=beta_1,\n",
        "                             beta_2=beta_2,\n",
        "                             epsilon=epsilon)\n",
        "\n",
        "    image_dict, hyper_dict, losses = transfer.transfer()\n",
        "\n",
        "    # print(hyper_dict, '\\n')\n",
        "    plot_images(image_dict)\n",
        "\n",
        "    if plot_loss:\n",
        "        plot_metrics(data=losses, metrics=metrics, y_label='loss')"
      ],
      "execution_count": null,
      "outputs": []
    },
    {
      "cell_type": "code",
      "metadata": {
        "id": "hUWUxwrcsN6s"
      },
      "source": [
        "# hyper-parameters\n",
        "content_layers = ['block3_conv4']\n",
        "style_layers = ['block1_conv1',\n",
        "                'block2_conv2',\n",
        "                'block3_conv2',\n",
        "                'block4_conv4',\n",
        "                'block5_conv3']\n",
        "epochs = 10\n",
        "\n",
        "content_weight = 0.5\n",
        "style_weight = 0.5\n",
        "\n",
        "total_variation_weight = 5\n",
        "\n",
        "learning_rate = 0.02\n",
        "beta_1 = 0.99\n",
        "beta_2 = 0.999\n",
        "epsilon = 1e-1\n",
        "\n",
        "# plot loss\n",
        "plot_loss = False\n",
        "metrics = ['total_loss']"
      ],
      "execution_count": null,
      "outputs": []
    },
    {
      "cell_type": "code",
      "metadata": {
        "id": "Q4uryl8Xzv1s"
      },
      "source": [
        "content_path = contents[0]\n",
        "style_path = styles[0]\n",
        "run_training()"
      ],
      "execution_count": null,
      "outputs": []
    },
    {
      "cell_type": "code",
      "metadata": {
        "id": "TdQSChdVhh8z"
      },
      "source": [
        "def plot_metrics(data, names, y_label='loss', x_label='epoch', factor=1):\n",
        "    n = len(data)\n",
        "    plt.figure(figsize=(8, 6))\n",
        "    plt.rc('font', size=14)\n",
        "\n",
        "    for i in range(n):\n",
        "        x = (np.arange(len(data[0])) + 1) * factor\n",
        "        y = data[i]\n",
        "        plt.plot(x, y, label=names[i], lw=2)\n",
        "    \n",
        "    plt.xlabel(x_label)\n",
        "    plt.ylabel(y_label)\n",
        "    plt.legend()\n",
        "    plt.show()"
      ],
      "execution_count": null,
      "outputs": []
    },
    {
      "cell_type": "code",
      "metadata": {
        "id": "47mr6jpGhtqs"
      },
      "source": [
        "loss_data = [losses1, losses2, losses3]\n",
        "names = ['Generated image 1', 'Generated image 2', 'Generated image 3']\n",
        "plot_metrics(loss_data, names)"
      ],
      "execution_count": null,
      "outputs": []
    }
  ]
}